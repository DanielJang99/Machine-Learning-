{
 "cells": [
  {
   "cell_type": "code",
   "execution_count": 19,
   "metadata": {},
   "outputs": [],
   "source": [
    "import cv2\n",
    "import os\n",
    "from matplotlib import pyplot as plt\n",
    "import numpy as np\n"
   ]
  },
  {
   "cell_type": "code",
   "execution_count": 20,
   "metadata": {},
   "outputs": [],
   "source": [
    "TRAIN = 'train'\n",
    "VALID = 'valid'\n",
    "TEST = 'test'\n",
    "\n",
    "# MAKE SURE THE IMAGE FOLDER IS IN THE SAME DIR\n",
    "def load_dataset(type):\n",
    "    dList = ['/face', '/non-face']\n",
    "    x_list = list()\n",
    "    y_list = list()\n",
    "    for d in dList:\n",
    "        directory = type+d\n",
    "        isFace = 1 if d=='/face' else -1\n",
    "        for filename in os.scandir(directory):\n",
    "            abs_path = os.path.abspath(filename.path)\n",
    "            img = cv2.imread(abs_path)\n",
    "            x_list.append(img)\n",
    "            y_list.append(isFace)\n",
    "    \n",
    "    return {'data': np.array(x_list), 'target': np.array(y_list)}"
   ]
  },
  {
   "cell_type": "code",
   "execution_count": 77,
   "metadata": {},
   "outputs": [],
   "source": [
    "class Rectangle:\n",
    "    def __init__(self, x,y,w,h):\n",
    "        self.x = x\n",
    "        self.y = y\n",
    "        self.w = w\n",
    "        self.h = h\n",
    "    \n",
    "    def get_info(self):\n",
    "        return self.x, self.y, self.w, self.h\n",
    "\n",
    "class IntegralImage:\n",
    "    def __init__(self, image):\n",
    "        self.ii = self.compute_integral(image)\n",
    "    \n",
    "    \n",
    "    def compute_integral(self, image, img_len=19):\n",
    "        integralImage = np.zeros((img_len, img_len, 1))\n",
    "        r_sum = np.zeros((img_len, img_len, 1))\n",
    "        for h in range(img_len):\n",
    "            for w in range(img_len):\n",
    "                if (h>=1):\n",
    "                    r_sum[h][w] = r_sum[h-1][w][0]+ image[h][w][0]\n",
    "                else:\n",
    "                    r_sum[h][w] = image[h][w][0]\n",
    "                \n",
    "                if(w>=1):\n",
    "                    integralImage[h][w] = integralImage[h][w-1][0] + r_sum[h][w][0]\n",
    "                else:\n",
    "                    integralImage[h][w] = r_sum[h][w][0]\n",
    "        return integralImage\n",
    "\n",
    "    def get_intensity(self,rect: Rectangle):\n",
    "        x,y,w,h = rect.get_info()\n",
    "        return self.ii[y][x] - self.ii[y-h][x] - self.ii[y][x-w] + self.ii[y-h][x-w]\n",
    "\n",
    "\n",
    "class FeatureRectangle(Rectangle):\n",
    "    def __init__(self, x, y, w, h, feature_type):\n",
    "        super().__init__(x,y,w,h)\n",
    "        self.feature_type = feature_type\n",
    "    \n",
    "    def get_feature(self, integral_img: IntegralImage):\n",
    "        # feature (A)\n",
    "        if self.feature_type == (2,1):\n",
    "            bbox = Rectangle(self.x, self.y, self.w // 2, self.h)\n",
    "            wbox = Rectangle(self.x - (self.w // 2), self.y, self.w // 2, self.h)\n",
    "            return integral_img.get_intensity(wbox) - integral_img.get_intensity(bbox)\n",
    "\n",
    "        # feature (B) \n",
    "        if self.feature_type == (1,2):\n",
    "            bbox = Rectangle(self.x, self.y - self.h //2, self.w, self.h //2)\n",
    "            wbox = Rectangle(self.x, self.y, self.w, self.h //2)\n",
    "            return integral_img.get_intensity(wbox) - integral_img.get_intensity(bbox) \n",
    "\n",
    "        # feature (C)\n",
    "        if self.feature_type == (3,1):\n",
    "            wbox1 = Rectangle(self.x - ((2*self.w) //3), self.y, self.w //3, self.h)\n",
    "            wbox2 = Rectangle(self.x, self.y, self.w //3, self.h)\n",
    "            bbox = Rectangle(self.x - (self.w// 3), self.y, self.w //3, self.h)\n",
    "            return integral_img.get_intensity(wbox1) + integral_img.get_intensity(wbox2) - integral_img.get_intensity(bbox)\n",
    "        \n",
    "        # feture (D)\n",
    "        if self.feature_type == (2,2):\n",
    "            wbox1 = Rectangle(self.x, self.y - (self.h //2), self.w //2, self.h//2)\n",
    "            wbox2 = Rectangle(self.x - (self.w //2), self.y, self.w //2, self.h//2)\n",
    "            bbox1 = Rectangle(self.x - (self.w //2), self.y - (self.h //2), self.w //2, self.h//2)\n",
    "            bbox2 = Rectangle(self.x, self.y, self.w //2, self.h//2)\n",
    "            return integral_img.get_intensity(wbox1) + integral_img.get_intensity(wbox2) - integral_img.get_intensity(bbox1) - integral_img.get_intensity(bbox2)\n"
   ]
  },
  {
   "cell_type": "code",
   "execution_count": 22,
   "metadata": {},
   "outputs": [],
   "source": [
    "from sklearn.model_selection import train_test_split\n",
    "\n",
    "train_dataset = load_dataset(TRAIN)\n",
    "test_dataset = load_dataset(TEST)\n",
    "X_test = test_dataset['data']\n",
    "y_test = test_dataset['target']\n",
    "\n",
    "img_train, img_valid, y_train, y_valid = train_test_split(train_dataset['data'], train_dataset['target'], test_size=0.2)\n",
    "ii_train = np.array([IntegralImage(img) for img in img_train])\n",
    "ii_valid = np.array([IntegralImage(img) for img in img_valid])\n",
    "\n"
   ]
  },
  {
   "cell_type": "code",
   "execution_count": 129,
   "metadata": {},
   "outputs": [],
   "source": [
    "from sklearn.ensemble import AdaBoostClassifier\n",
    "from timeit import default_timer as timer\n",
    "from sklearn.metrics import confusion_matrix, ConfusionMatrixDisplay\n",
    "from sklearn.ensemble import RandomForestClassifier\n",
    "\n",
    "\n",
    "class ViolaJones:\n",
    "    def __init__(self, rounds=10, img_width=19, img_height=19):\n",
    "        self.rounds = rounds\n",
    "        self.feature_types = [(1,2), (2,1), (3,1), (2,2)]\n",
    "        self.haar_features = self.make_Haar_features(max_width=img_width,max_height=img_height)\n",
    "    \n",
    "    def make_Haar_features(self, max_width, max_height):\n",
    "        total_features = list()\n",
    "        for ft in self.feature_types:\n",
    "            type_features = list()\n",
    "            for width in range(ft[0], max_width+1, ft[0]):\n",
    "                for height in range(ft[1], max_height+1, ft[1]):\n",
    "                    for x in range(width-1, max_width):\n",
    "                        for y in range(height-1, max_height):\n",
    "                            type_features.append(FeatureRectangle(x,y,width,height,ft))\n",
    "            total_features += type_features\n",
    "        return np.array(total_features)\n",
    "\n",
    "    def convert_to_integral_images(self, img_list):\n",
    "        ii_list = list()\n",
    "        for img in img_list:\n",
    "            ii_list.append(IntegralImage(img))\n",
    "        return np.array(ii_list)\n",
    "    \n",
    "    def compute_haar(self, dataset):\n",
    "        start = timer()\n",
    "        X_data = np.empty((len(dataset), len(self.haar_features)))\n",
    "        for i, int_img in enumerate(dataset):\n",
    "            for j, hf in enumerate(self.haar_features):\n",
    "                X_data[i][j] = hf.get_feature(int_img)\n",
    "        haar_end = timer()\n",
    "        print(f'Computation time for Haar feature: {haar_end - start}s')\n",
    "        print(X_data.shape)\n",
    "        return X_data\n",
    "    \n",
    "    def trainAdaBoost(self, train_x, train_y, valid_x, valid_y):\n",
    "        start = timer()\n",
    "        clf = AdaBoostClassifier(algorithm='SAMME', n_estimators=12)\n",
    "        clf.fit(train_x, train_y)\n",
    "        train_end = timer()\n",
    "        print(f'Training time for AdaBoost: {train_end - start}s')\n",
    "        print(\"Accuracy over validation: \", clf.score(valid_x, valid_y))\n",
    "        \n",
    "        f = clf.feature_importances_\n",
    "        test_features = [self.haar_features[i] for i in range(len(f)) if f[i]!=0]\n",
    "        return clf, test_features\n",
    "\n",
    "    def testAdaBoost(self, test_X, test_y, features):\n",
    "        test_size = len(test_X)\n",
    "        f_start = timer()\n",
    "        test_ii = self.convert_to_integral_images(test_X)\n",
    "        f_end = timer()\n",
    "        print(f'Time taken for feature compution: {f_end - f_start}s')\n",
    "        img_start = timer()\n",
    "        y_pred = np.empty((test_size ,))\n",
    "        for i, img in enumerate(test_ii):\n",
    "            res = 0\n",
    "            for f in features:\n",
    "                res += f.get_feature(img)\n",
    "            y_pred[i] = 1 if res > 0 else -1\n",
    "        i_end = timer()\n",
    "        print(f'Time taken for each img: {(i_end - img_start) / test_size}s')\n",
    "        cm = confusion_matrix(test_y, y_pred)\n",
    "        disp = ConfusionMatrixDisplay(confusion_matrix=cm)\n",
    "        disp.plot()\n",
    "        plt.show()\n",
    "    \n",
    "\n",
    "    def runRandomForest(self, train_x, train_y, valid_x, valid_y, test_X, test_y):\n",
    "        test_size = len(test_X)\n",
    "\n",
    "        rf_start = timer()\n",
    "        clf = RandomForestClassifier(max_depth=5)\n",
    "        clf.fit(train_x, train_y)\n",
    "        rf_train = timer()\n",
    "        print(f\"Random Forest Training time: {rf_train - rf_start}s\")\n",
    "        print(\"Random Forest Accuracy over validation: \", clf.score(valid_x, valid_y))\n",
    "\n",
    "        f = clf.feature_importances_\n",
    "        test_features = [self.haar_features[i] for i in range(len(f)) if f[i]!=0]\n",
    "        \n",
    "        rf_test_start = timer()\n",
    "        test_ii = self.convert_to_integral_images(test_X)\n",
    "        y_pred = np.empty((test_size ,))\n",
    "        for i, img in enumerate(test_ii):\n",
    "            res = 0\n",
    "            for f in test_features:\n",
    "                res += f.get_feature(img)\n",
    "            y_pred[i] = 1 if res > 0 else -1\n",
    "        rf_test_end = timer()\n",
    "        print(f\"Random Forest Testing time: {rf_test_end - rf_test_start}s\")\n",
    "        "
   ]
  },
  {
   "cell_type": "code",
   "execution_count": 130,
   "metadata": {},
   "outputs": [
    {
     "name": "stdout",
     "output_type": "stream",
     "text": [
      "There are 53130 features in total\n"
     ]
    }
   ],
   "source": [
    "VJ = ViolaJones()"
   ]
  },
  {
   "cell_type": "code",
   "execution_count": 44,
   "metadata": {},
   "outputs": [
    {
     "name": "stdout",
     "output_type": "stream",
     "text": [
      "Computation time for Haar feature: 3007.6521535829997s\n",
      "(5581, 53130)\n",
      "Computation time for Haar feature: 748.8721532500003s\n",
      "(1396, 53130)\n"
     ]
    }
   ],
   "source": [
    "X_train = VJ.compute_haar(ii_train)\n",
    "X_valid = VJ.compute_haar(ii_valid)"
   ]
  },
  {
   "cell_type": "code",
   "execution_count": 52,
   "metadata": {},
   "outputs": [
    {
     "name": "stdout",
     "output_type": "stream",
     "text": [
      "Training time for AdaBoost: 273.9369497500011s\n",
      "Accuracy over validation:  0.9520057306590258\n",
      "Time taken for feature compution: 20.446450166997238s\n"
     ]
    },
    {
     "ename": "ValueError",
     "evalue": "Expected 2D array, got 1D array instead:\narray=[<__main__.IntegralImage object at 0x7fcae937b190>\n <__main__.IntegralImage object at 0x7fcb00845a60>\n <__main__.IntegralImage object at 0x7fcb00845a00> ...\n <__main__.IntegralImage object at 0x7fddcd4733a0>\n <__main__.IntegralImage object at 0x7fddcd473400>\n <__main__.IntegralImage object at 0x7fddcd473460>].\nReshape your data either using array.reshape(-1, 1) if your data has a single feature or array.reshape(1, -1) if it contains a single sample.",
     "output_type": "error",
     "traceback": [
      "\u001b[0;31m---------------------------------------------------------------------------\u001b[0m",
      "\u001b[0;31mValueError\u001b[0m                                Traceback (most recent call last)",
      "\u001b[1;32m/Users/hyunseokjang/Desktop/ml/viola-jones/viola-jones.ipynb Cell 8'\u001b[0m in \u001b[0;36m<module>\u001b[0;34m\u001b[0m\n\u001b[1;32m      <a href='vscode-notebook-cell:/Users/hyunseokjang/Desktop/ml/viola-jones/viola-jones.ipynb#ch0000032?line=0'>1</a>\u001b[0m classifier, features \u001b[39m=\u001b[39m VJ\u001b[39m.\u001b[39mtrainAdaBoost(X_train, y_train, X_valid, y_valid)\n\u001b[0;32m----> <a href='vscode-notebook-cell:/Users/hyunseokjang/Desktop/ml/viola-jones/viola-jones.ipynb#ch0000032?line=1'>2</a>\u001b[0m VJ\u001b[39m.\u001b[39;49mtestAdaBoost(classifier, X_test, y_test)\n",
      "\u001b[1;32m/Users/hyunseokjang/Desktop/ml/viola-jones/viola-jones.ipynb Cell 5'\u001b[0m in \u001b[0;36mViolaJones.testAdaBoost\u001b[0;34m(self, classifier, test_X, test_y, features)\u001b[0m\n\u001b[1;32m     <a href='vscode-notebook-cell:/Users/hyunseokjang/Desktop/ml/viola-jones/viola-jones.ipynb#ch0000012?line=56'>57</a>\u001b[0m \u001b[39mprint\u001b[39m(\u001b[39mf\u001b[39m\u001b[39m'\u001b[39m\u001b[39mTime taken for feature compution: \u001b[39m\u001b[39m{\u001b[39;00mf_end \u001b[39m-\u001b[39m f_start\u001b[39m}\u001b[39;00m\u001b[39ms\u001b[39m\u001b[39m'\u001b[39m)\n\u001b[1;32m     <a href='vscode-notebook-cell:/Users/hyunseokjang/Desktop/ml/viola-jones/viola-jones.ipynb#ch0000012?line=57'>58</a>\u001b[0m i_start \u001b[39m=\u001b[39m timer()\n\u001b[0;32m---> <a href='vscode-notebook-cell:/Users/hyunseokjang/Desktop/ml/viola-jones/viola-jones.ipynb#ch0000012?line=58'>59</a>\u001b[0m pred \u001b[39m=\u001b[39m classifier\u001b[39m.\u001b[39;49mpredict(test_ii)\n\u001b[1;32m     <a href='vscode-notebook-cell:/Users/hyunseokjang/Desktop/ml/viola-jones/viola-jones.ipynb#ch0000012?line=59'>60</a>\u001b[0m i_end \u001b[39m=\u001b[39m timer()\n\u001b[1;32m     <a href='vscode-notebook-cell:/Users/hyunseokjang/Desktop/ml/viola-jones/viola-jones.ipynb#ch0000012?line=60'>61</a>\u001b[0m \u001b[39mprint\u001b[39m(\u001b[39mf\u001b[39m\u001b[39m'\u001b[39m\u001b[39mTime taken for each img: \u001b[39m\u001b[39m{\u001b[39;00m(i_end \u001b[39m-\u001b[39m i_start) \u001b[39m/\u001b[39m \u001b[39mlen\u001b[39m(test_X)\u001b[39m}\u001b[39;00m\u001b[39ms\u001b[39m\u001b[39m'\u001b[39m)\n",
      "File \u001b[0;32m/Library/Frameworks/Python.framework/Versions/3.8/lib/python3.8/site-packages/sklearn/ensemble/_weight_boosting.py:631\u001b[0m, in \u001b[0;36mAdaBoostClassifier.predict\u001b[0;34m(self, X)\u001b[0m\n\u001b[1;32m    <a href='file:///Library/Frameworks/Python.framework/Versions/3.8/lib/python3.8/site-packages/sklearn/ensemble/_weight_boosting.py?line=613'>614</a>\u001b[0m \u001b[39mdef\u001b[39;00m \u001b[39mpredict\u001b[39m(\u001b[39mself\u001b[39m, X):\n\u001b[1;32m    <a href='file:///Library/Frameworks/Python.framework/Versions/3.8/lib/python3.8/site-packages/sklearn/ensemble/_weight_boosting.py?line=614'>615</a>\u001b[0m     \u001b[39m\"\"\"Predict classes for X.\u001b[39;00m\n\u001b[1;32m    <a href='file:///Library/Frameworks/Python.framework/Versions/3.8/lib/python3.8/site-packages/sklearn/ensemble/_weight_boosting.py?line=615'>616</a>\u001b[0m \n\u001b[1;32m    <a href='file:///Library/Frameworks/Python.framework/Versions/3.8/lib/python3.8/site-packages/sklearn/ensemble/_weight_boosting.py?line=616'>617</a>\u001b[0m \u001b[39m    The predicted class of an input sample is computed as the weighted mean\u001b[39;00m\n\u001b[0;32m   (...)\u001b[0m\n\u001b[1;32m    <a href='file:///Library/Frameworks/Python.framework/Versions/3.8/lib/python3.8/site-packages/sklearn/ensemble/_weight_boosting.py?line=628'>629</a>\u001b[0m \u001b[39m        The predicted classes.\u001b[39;00m\n\u001b[1;32m    <a href='file:///Library/Frameworks/Python.framework/Versions/3.8/lib/python3.8/site-packages/sklearn/ensemble/_weight_boosting.py?line=629'>630</a>\u001b[0m \u001b[39m    \"\"\"\u001b[39;00m\n\u001b[0;32m--> <a href='file:///Library/Frameworks/Python.framework/Versions/3.8/lib/python3.8/site-packages/sklearn/ensemble/_weight_boosting.py?line=630'>631</a>\u001b[0m     X \u001b[39m=\u001b[39m \u001b[39mself\u001b[39;49m\u001b[39m.\u001b[39;49m_check_X(X)\n\u001b[1;32m    <a href='file:///Library/Frameworks/Python.framework/Versions/3.8/lib/python3.8/site-packages/sklearn/ensemble/_weight_boosting.py?line=632'>633</a>\u001b[0m     pred \u001b[39m=\u001b[39m \u001b[39mself\u001b[39m\u001b[39m.\u001b[39mdecision_function(X)\n\u001b[1;32m    <a href='file:///Library/Frameworks/Python.framework/Versions/3.8/lib/python3.8/site-packages/sklearn/ensemble/_weight_boosting.py?line=634'>635</a>\u001b[0m     \u001b[39mif\u001b[39;00m \u001b[39mself\u001b[39m\u001b[39m.\u001b[39mn_classes_ \u001b[39m==\u001b[39m \u001b[39m2\u001b[39m:\n",
      "File \u001b[0;32m/Library/Frameworks/Python.framework/Versions/3.8/lib/python3.8/site-packages/sklearn/ensemble/_weight_boosting.py:76\u001b[0m, in \u001b[0;36mBaseWeightBoosting._check_X\u001b[0;34m(self, X)\u001b[0m\n\u001b[1;32m     <a href='file:///Library/Frameworks/Python.framework/Versions/3.8/lib/python3.8/site-packages/sklearn/ensemble/_weight_boosting.py?line=74'>75</a>\u001b[0m \u001b[39mdef\u001b[39;00m \u001b[39m_check_X\u001b[39m(\u001b[39mself\u001b[39m, X):\n\u001b[0;32m---> <a href='file:///Library/Frameworks/Python.framework/Versions/3.8/lib/python3.8/site-packages/sklearn/ensemble/_weight_boosting.py?line=75'>76</a>\u001b[0m     \u001b[39mreturn\u001b[39;00m check_array(X, accept_sparse\u001b[39m=\u001b[39;49m[\u001b[39m'\u001b[39;49m\u001b[39mcsr\u001b[39;49m\u001b[39m'\u001b[39;49m, \u001b[39m'\u001b[39;49m\u001b[39mcsc\u001b[39;49m\u001b[39m'\u001b[39;49m], ensure_2d\u001b[39m=\u001b[39;49m\u001b[39mTrue\u001b[39;49;00m,\n\u001b[1;32m     <a href='file:///Library/Frameworks/Python.framework/Versions/3.8/lib/python3.8/site-packages/sklearn/ensemble/_weight_boosting.py?line=76'>77</a>\u001b[0m                        allow_nd\u001b[39m=\u001b[39;49m\u001b[39mTrue\u001b[39;49;00m, dtype\u001b[39m=\u001b[39;49m\u001b[39mNone\u001b[39;49;00m)\n",
      "File \u001b[0;32m/Library/Frameworks/Python.framework/Versions/3.8/lib/python3.8/site-packages/sklearn/utils/validation.py:73\u001b[0m, in \u001b[0;36m_deprecate_positional_args.<locals>.inner_f\u001b[0;34m(*args, **kwargs)\u001b[0m\n\u001b[1;32m     <a href='file:///Library/Frameworks/Python.framework/Versions/3.8/lib/python3.8/site-packages/sklearn/utils/validation.py?line=67'>68</a>\u001b[0m     warnings\u001b[39m.\u001b[39mwarn(\u001b[39m\"\u001b[39m\u001b[39mPass \u001b[39m\u001b[39m{}\u001b[39;00m\u001b[39m as keyword args. From version 0.25 \u001b[39m\u001b[39m\"\u001b[39m\n\u001b[1;32m     <a href='file:///Library/Frameworks/Python.framework/Versions/3.8/lib/python3.8/site-packages/sklearn/utils/validation.py?line=68'>69</a>\u001b[0m                   \u001b[39m\"\u001b[39m\u001b[39mpassing these as positional arguments will \u001b[39m\u001b[39m\"\u001b[39m\n\u001b[1;32m     <a href='file:///Library/Frameworks/Python.framework/Versions/3.8/lib/python3.8/site-packages/sklearn/utils/validation.py?line=69'>70</a>\u001b[0m                   \u001b[39m\"\u001b[39m\u001b[39mresult in an error\u001b[39m\u001b[39m\"\u001b[39m\u001b[39m.\u001b[39mformat(\u001b[39m\"\u001b[39m\u001b[39m, \u001b[39m\u001b[39m\"\u001b[39m\u001b[39m.\u001b[39mjoin(args_msg)),\n\u001b[1;32m     <a href='file:///Library/Frameworks/Python.framework/Versions/3.8/lib/python3.8/site-packages/sklearn/utils/validation.py?line=70'>71</a>\u001b[0m                   \u001b[39mFutureWarning\u001b[39;00m)\n\u001b[1;32m     <a href='file:///Library/Frameworks/Python.framework/Versions/3.8/lib/python3.8/site-packages/sklearn/utils/validation.py?line=71'>72</a>\u001b[0m kwargs\u001b[39m.\u001b[39mupdate({k: arg \u001b[39mfor\u001b[39;00m k, arg \u001b[39min\u001b[39;00m \u001b[39mzip\u001b[39m(sig\u001b[39m.\u001b[39mparameters, args)})\n\u001b[0;32m---> <a href='file:///Library/Frameworks/Python.framework/Versions/3.8/lib/python3.8/site-packages/sklearn/utils/validation.py?line=72'>73</a>\u001b[0m \u001b[39mreturn\u001b[39;00m f(\u001b[39m*\u001b[39;49m\u001b[39m*\u001b[39;49mkwargs)\n",
      "File \u001b[0;32m/Library/Frameworks/Python.framework/Versions/3.8/lib/python3.8/site-packages/sklearn/utils/validation.py:620\u001b[0m, in \u001b[0;36mcheck_array\u001b[0;34m(array, accept_sparse, accept_large_sparse, dtype, order, copy, force_all_finite, ensure_2d, allow_nd, ensure_min_samples, ensure_min_features, estimator)\u001b[0m\n\u001b[1;32m    <a href='file:///Library/Frameworks/Python.framework/Versions/3.8/lib/python3.8/site-packages/sklearn/utils/validation.py?line=617'>618</a>\u001b[0m     \u001b[39m# If input is 1D raise error\u001b[39;00m\n\u001b[1;32m    <a href='file:///Library/Frameworks/Python.framework/Versions/3.8/lib/python3.8/site-packages/sklearn/utils/validation.py?line=618'>619</a>\u001b[0m     \u001b[39mif\u001b[39;00m array\u001b[39m.\u001b[39mndim \u001b[39m==\u001b[39m \u001b[39m1\u001b[39m:\n\u001b[0;32m--> <a href='file:///Library/Frameworks/Python.framework/Versions/3.8/lib/python3.8/site-packages/sklearn/utils/validation.py?line=619'>620</a>\u001b[0m         \u001b[39mraise\u001b[39;00m \u001b[39mValueError\u001b[39;00m(\n\u001b[1;32m    <a href='file:///Library/Frameworks/Python.framework/Versions/3.8/lib/python3.8/site-packages/sklearn/utils/validation.py?line=620'>621</a>\u001b[0m             \u001b[39m\"\u001b[39m\u001b[39mExpected 2D array, got 1D array instead:\u001b[39m\u001b[39m\\n\u001b[39;00m\u001b[39marray=\u001b[39m\u001b[39m{}\u001b[39;00m\u001b[39m.\u001b[39m\u001b[39m\\n\u001b[39;00m\u001b[39m\"\u001b[39m\n\u001b[1;32m    <a href='file:///Library/Frameworks/Python.framework/Versions/3.8/lib/python3.8/site-packages/sklearn/utils/validation.py?line=621'>622</a>\u001b[0m             \u001b[39m\"\u001b[39m\u001b[39mReshape your data either using array.reshape(-1, 1) if \u001b[39m\u001b[39m\"\u001b[39m\n\u001b[1;32m    <a href='file:///Library/Frameworks/Python.framework/Versions/3.8/lib/python3.8/site-packages/sklearn/utils/validation.py?line=622'>623</a>\u001b[0m             \u001b[39m\"\u001b[39m\u001b[39myour data has a single feature or array.reshape(1, -1) \u001b[39m\u001b[39m\"\u001b[39m\n\u001b[1;32m    <a href='file:///Library/Frameworks/Python.framework/Versions/3.8/lib/python3.8/site-packages/sklearn/utils/validation.py?line=623'>624</a>\u001b[0m             \u001b[39m\"\u001b[39m\u001b[39mif it contains a single sample.\u001b[39m\u001b[39m\"\u001b[39m\u001b[39m.\u001b[39mformat(array))\n\u001b[1;32m    <a href='file:///Library/Frameworks/Python.framework/Versions/3.8/lib/python3.8/site-packages/sklearn/utils/validation.py?line=625'>626</a>\u001b[0m \u001b[39m# in the future np.flexible dtypes will be handled like object dtypes\u001b[39;00m\n\u001b[1;32m    <a href='file:///Library/Frameworks/Python.framework/Versions/3.8/lib/python3.8/site-packages/sklearn/utils/validation.py?line=626'>627</a>\u001b[0m \u001b[39mif\u001b[39;00m dtype_numeric \u001b[39mand\u001b[39;00m np\u001b[39m.\u001b[39missubdtype(array\u001b[39m.\u001b[39mdtype, np\u001b[39m.\u001b[39mflexible):\n",
      "\u001b[0;31mValueError\u001b[0m: Expected 2D array, got 1D array instead:\narray=[<__main__.IntegralImage object at 0x7fcae937b190>\n <__main__.IntegralImage object at 0x7fcb00845a60>\n <__main__.IntegralImage object at 0x7fcb00845a00> ...\n <__main__.IntegralImage object at 0x7fddcd4733a0>\n <__main__.IntegralImage object at 0x7fddcd473400>\n <__main__.IntegralImage object at 0x7fddcd473460>].\nReshape your data either using array.reshape(-1, 1) if your data has a single feature or array.reshape(1, -1) if it contains a single sample."
     ]
    }
   ],
   "source": [
    "classifier, features = VJ.trainAdaBoost(X_train, y_train, X_valid, y_valid)"
   ]
  },
  {
   "cell_type": "code",
   "execution_count": 121,
   "metadata": {},
   "outputs": [
    {
     "name": "stdout",
     "output_type": "stream",
     "text": [
      "Time taken for feature compution: 19.951010083001165s\n",
      "Time taken for each img: 0.00011714381023079328s\n"
     ]
    },
    {
     "data": {
      "image/png": "[encoded data removed]",
      "text/plain": [
       "<Figure size 432x288 with 2 Axes>"
      ]
     },
     "metadata": {
      "needs_background": "light"
     },
     "output_type": "display_data"
    }
   ],
   "source": [
    "VJ.testAdaBoost(X_test, y_test, features)"
   ]
  },
  {
   "cell_type": "code",
   "execution_count": 131,
   "metadata": {},
   "outputs": [
    {
     "name": "stdout",
     "output_type": "stream",
     "text": [
      "Random Forest Training time: 29.875832041998365s\n",
      "Random Forest Accuracy over validation:  0.9742120343839542\n",
      "Random Forest Testing time: 663.6382501250009s\n"
     ]
    },
    {
     "data": {
      "image/png": "[encoded data removed]",
      "text/plain": [
       "<Figure size 432x288 with 2 Axes>"
      ]
     },
     "metadata": {
      "needs_background": "light"
     },
     "output_type": "display_data"
    }
   ],
   "source": [
    "VJ.runRandomForest(X_train, y_train, X_valid, y_valid, X_test, y_test)"
   ]
  },
  {
   "cell_type": "markdown",
   "metadata": {},
   "source": [
    "It is evident that due to the different nature of the algorithms, Adaboost is significantly slower during the training phase, but it can narrow down crucial features more quickly such that the performance is much better on-the-fly (testing). Random Forest on the other hand was much faster during the training phase and had a slightly higher accuracy, but it is much more slower for testing large number of files. This may have been attributed to the depth being too high, or the prorgram not optimized for parallel computation, which would benefit Random Forest a lot. "
   ]
  }
 ],
 "metadata": {
  "interpreter": {
   "hash": "752579dbebe7f4dfe7c1aa72eac13e23fc88be2cc1ea7ab14e1f8d69b2d97d12"
  },
  "kernelspec": {
   "display_name": "Python 3.8.3 64-bit",
   "language": "python",
   "name": "python3"
  },
  "language_info": {
   "codemirror_mode": {
    "name": "ipython",
    "version": 3
   },
   "file_extension": ".py",
   "mimetype": "text/x-python",
   "name": "python",
   "nbconvert_exporter": "python",
   "pygments_lexer": "ipython3",
   "version": "3.8.3"
  },
  "orig_nbformat": 4
 },
 "nbformat": 4,
 "nbformat_minor": 2
}
